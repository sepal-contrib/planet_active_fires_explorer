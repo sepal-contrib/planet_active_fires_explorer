{
 "cells": [
  {
   "cell_type": "markdown",
   "metadata": {},
   "source": [
    "<center><h1 class=\"text-center h3\" id=\"loading-app\">Setting things up for you... Thanks for waiting!</h1></center>"
   ]
  },
  {
   "cell_type": "code",
   "execution_count": null,
   "metadata": {
    "tags": []
   },
   "outputs": [],
   "source": [
    "from ipyleaflet import WidgetControl\n",
    "from component.tiles import AlertMap, PanelTile\n",
    "from component.model import AlertModel\n",
    "from component.frontend import custom_styles\n",
    "import sepal_ui.sepalwidgets as sw"
   ]
  },
  {
   "cell_type": "code",
   "execution_count": null,
   "metadata": {
    "tags": []
   },
   "outputs": [],
   "source": [
    "model = AlertModel()"
   ]
  },
  {
   "cell_type": "code",
   "execution_count": null,
   "metadata": {
    "tags": []
   },
   "outputs": [],
   "source": [
    "map_ = AlertMap(model)"
   ]
  },
  {
   "cell_type": "code",
   "execution_count": null,
   "metadata": {
    "tags": []
   },
   "outputs": [],
   "source": [
    "panel_tile = PanelTile(map_, model)"
   ]
  },
  {
   "cell_type": "code",
   "execution_count": null,
   "metadata": {
    "tags": []
   },
   "outputs": [],
   "source": [
    "control_panel = WidgetControl(\n",
    "    widget=panel_tile, \n",
    "    position='bottomright', \n",
    "    transparent_bg=True\n",
    ")\n",
    "map_.controls  = tuple(\n",
    "    [control_panel] + [c for c in map_.controls]\n",
    ")"
   ]
  },
  {
   "cell_type": "code",
   "execution_count": null,
   "metadata": {
    "tags": []
   },
   "outputs": [],
   "source": [
    "process_tile = sw.Tile(id_='ui', title='', inputs=[map_])\n",
    "\n",
    "app_bar = sw.AppBar(title='Sepal Planet active fires explorer - SEPAFE')\n",
    "\n",
    "content = [process_tile]\n",
    "\n",
    "code_link = 'https://github.com/sepal-contrib/planet_active_fires_explorer'\n",
    "wiki_link = 'https://docs.sepal.io/en/latest/modules/dwn/sepafe.html'\n",
    "issue_link = 'https://github.com/sepal-contrib/planet_active_fires_explorer/issues/new'\n",
    "\n",
    "map_.set_code(code_link)\n",
    "map_.set_wiki(wiki_link)\n",
    "map_.set_issue(issue_link)\n",
    "\n",
    "\n",
    "app = sw.App(appBar = app_bar, tiles = content).show_tile('ui')"
   ]
  },
  {
   "cell_type": "code",
   "execution_count": null,
   "metadata": {
    "tags": []
   },
   "outputs": [],
   "source": [
    "app"
   ]
  }
 ],
 "metadata": {
  "kernelspec": {
   "display_name": " (venv) planet_active_fires_explorer",
   "language": "python",
   "name": "venv-planet_active_fires_explorer"
  },
  "language_info": {
   "codemirror_mode": {
    "name": "ipython",
    "version": 3
   },
   "file_extension": ".py",
   "mimetype": "text/x-python",
   "name": "python",
   "nbconvert_exporter": "python",
   "pygments_lexer": "ipython3",
   "version": "3.10.12"
  }
 },
 "nbformat": 4,
 "nbformat_minor": 4
}