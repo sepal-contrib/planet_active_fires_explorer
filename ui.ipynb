{
 "cells": [
  {
   "cell_type": "code",
   "execution_count": null,
   "id": "0c045de7",
   "metadata": {},
   "outputs": [
    {
     "data": {
      "text/html": [
       "<style>/*******************************************************************************\n",
       " * Customization of the provided css from the different libs used by sepal_ui\n",
       " */\n",
       "\n",
       "/* replace the map panel elements on top */\n",
       ".leaflet-pane,\n",
       ".leaflet-top,\n",
       ".leaflet-bottom {\n",
       "  z-index: 2 !important;\n",
       "}\n",
       "\n",
       "/* remove the shadow from the widgets on the maps */\n",
       ".leaflet-widgetcontrol {\n",
       "  box-shadow: none;\n",
       "}\n",
       "\n",
       "/* remove extra padding on top of the content */\n",
       "main.v-content {\n",
       "  padding-top: 0px !important;\n",
       "}\n",
       "\n",
       ".v-alert__wrapper .progress {\n",
       "  background-color: transparent;\n",
       "}\n",
       "\n",
       "/* set the bar on top of the map (800) when set to fullscreen */\n",
       "header.v-app-bar {\n",
       "  z-index: 800 !important;\n",
       "}\n",
       "\n",
       "/* set the menu_content on top of the map when it's set to fullscreen */\n",
       ".v-menu__content {\n",
       "  max-width: 100% !important;\n",
       "  z-index: 801 !important;\n",
       "}\n",
       "\n",
       "/* make sure navigation drawers are always visible when they exist */\n",
       "nav.v-navigation-drawer {\n",
       "  z-index: 900 !important;\n",
       "}\n",
       "\n",
       "/* create extra position for the leaflet map controls */\n",
       ".leaflet-center {\n",
       "  left: 50%;\n",
       "  transform: translate(-50%, 0%);\n",
       "}\n",
       "\n",
       ".leaflet-middle {\n",
       "  top: 50%;\n",
       "  position: absolute;\n",
       "  z-index: 1000;\n",
       "  pointer-events: none;\n",
       "  transform: translate(0%, -50%);\n",
       "}\n",
       "\n",
       ".leaflet-center.leaflet-middle {\n",
       "  transform: translate(-50%, -50%);\n",
       "}\n",
       "\n",
       "/* create extra classes to customize the layer_control table */\n",
       ".v-no-hover:hover {\n",
       "  background-color: transparent !important;\n",
       "}\n",
       "\n",
       ".v-no-border tbody tr td,\n",
       ".v-no-border tbody tr th {\n",
       "  border: none !important;\n",
       "}\n",
       "\n",
       "/* extra css rules to make the messages disappear beneath the SimpleSlider */\n",
       ".v-no-messages .v-messages {\n",
       "  display: none;\n",
       "}\n",
       "\n",
       ".v-no-messages .v-input__slot {\n",
       "  margin-bottom: 0;\n",
       "}\n",
       "\n",
       "/* specific css for the btn placed on maps */\n",
       ".v-btn.v-size--default.v-map-btn:not(.v-btn--round) {\n",
       "  padding: 0px;\n",
       "  min-width: 0px;\n",
       "  width: 30px;\n",
       "  height: 30px;\n",
       "}\n",
       "\n",
       "/* add specific css for the zoom btn of the map */\n",
       ".v-btn.v-zoom-plus {\n",
       "  border-bottom-left-radius: 0;\n",
       "  border-bottom-right-radius: 0;\n",
       "}\n",
       "\n",
       ".v-btn.v-zoom-minus {\n",
       "  margin-top: -1px;\n",
       "  border-top-left-radius: 0;\n",
       "  border-top-right-radius: 0;\n",
       "}\n",
       "\n",
       "/* css rules for fullscreen menus */\n",
       ".v-card.v-menu-fullscreen {\n",
       "  width: calc(100vw - 80px);\n",
       "  height: calc(100vh - 20px);\n",
       "}\n",
       "\n",
       "/* hide the disclaimer message placed on top of the ui notebook\n",
       " * the message will be displayed until the css is loaded */\n",
       "#loading-app {\n",
       "  display: none !important;\n",
       "}\n",
       "\n",
       "/* Related with https://github.com/12rambau/sepal_ui/issues/893 */\n",
       "#rendered_cells,\n",
       "#main {\n",
       "  contain: revert !important;\n",
       "  background-color: revert !important;\n",
       "}\n",
       "\n",
       "#jp-main-content-panel {\n",
       "  contain: revert !important;\n",
       "}\n",
       "\n",
       ".full-screen-map > .leaflet-container {\n",
       "  position: fixed !important;\n",
       "  width: 100vw;\n",
       "  height: calc(100vh - 48px);\n",
       "  z-index: 800;\n",
       "  bottom: 0;\n",
       "  left: 0;\n",
       "}\n",
       "</style>"
      ],
      "text/plain": [
       "<IPython.core.display.HTML object>"
      ]
     },
     "metadata": {},
     "output_type": "display_data"
    },
    {
     "data": {
      "text/html": [
       "<link rel=\"stylesheet\" href=\"https://cdnjs.cloudflare.com/ajax/libs/font-awesome/6.2.1/css/all.min.css\"/>"
      ],
      "text/plain": [
       "<IPython.core.display.HTML object>"
      ]
     },
     "metadata": {},
     "output_type": "display_data"
    },
    {
     "data": {
      "application/javascript": "/*******************************************************************************\n * remove any links from fontawesome 5 created by jupyter in favor of\n * fontawesome 6. to be removed when Jupyter updates it\n */\n\nfunction remove_fa5() {\n  let links = document.querySelectorAll(\n    \"link[href^='https://cdn.jsdelivr.net/npm/@fortawesome/fontawesome-free@^5']\"\n  );\n\n  links.forEach((link) => link.remove());\n}\n\nif (document.readyState != \"loading\") remove_fa5();\nelse document.addEventListener(\"DOMContentLoaded\", remove_fa5);\n",
      "text/plain": [
       "<IPython.core.display.Javascript object>"
      ]
     },
     "metadata": {},
     "output_type": "display_data"
    },
    {
     "data": {
      "application/vnd.jupyter.widget-view+json": {
       "model_id": "f8a9d63392184cd8ad3280849d723b1d",
       "version_major": 2,
       "version_minor": 0
      },
      "text/plain": [
       "ResizeTrigger()"
      ]
     },
     "metadata": {},
     "output_type": "display_data"
    }
   ],
   "source": [
    "import ipyvuetify as v\n",
    "from component.tiles import AlertMap\n",
    "from component.model import AlertModel\n",
    "from component.tiles import AlertsTile, AoiView\n",
    "from component.tiles.planet_view import PlanetView\n",
    "from sepal_ui.sepalwidgets.vue_app import MapApp\n",
    "from component.scripts.logger import logger"
   ]
  },
  {
   "cell_type": "code",
   "execution_count": 2,
   "id": "cb4945a1",
   "metadata": {},
   "outputs": [],
   "source": [
    "model = AlertModel()"
   ]
  },
  {
   "cell_type": "code",
   "execution_count": 3,
   "id": "35585b18",
   "metadata": {},
   "outputs": [],
   "source": [
    "map_ = AlertMap(model)"
   ]
  },
  {
   "cell_type": "code",
   "execution_count": 4,
   "id": "8e2e5d88",
   "metadata": {},
   "outputs": [],
   "source": [
    "planet_view = PlanetView(model, map_)\n",
    "aoi_view = AoiView(model, map_)\n",
    "alerts_view = AlertsTile(model, aoi_view, planet_view, map_)\n"
   ]
  },
  {
   "cell_type": "code",
   "execution_count": null,
   "id": "28a24aa3",
   "metadata": {},
   "outputs": [],
   "source": [
    "steps_data = [\n",
    "    {\n",
    "        \"id\": 2,\n",
    "        \"name\": \"Area of Interest\",\n",
    "        \"icon\": \"mdi-map-marker-check\",\n",
    "        \"display\": \"dialog\",\n",
    "        \"actions\" : [\n",
    "            {\"label\": \"Cancel\", \"close\": True, \"cancel\": True},\n",
    "            {\"label\": \"Next\", \"next\": 3},\n",
    "        ]\n",
    "    },\n",
    "    {\n",
    "        \"id\": 3,\n",
    "        \"name\": \"Sources\",\n",
    "        \"icon\": \"mdi-wrench\",\n",
    "        \"display\": \"dialog\",\n",
    "        \"actions\" : [\n",
    "            {\"label\": \"Cancel\", \"close\": True, \"cancel\": True},\n",
    "            {\"label\": \"Next\", \"next\": 4},\n",
    "        ]\n",
    "    },\n",
    "    {\n",
    "        \"id\": 4,\n",
    "        \"name\": \"Get alerts\",\n",
    "        \"icon\": \"mdi-fire\",\n",
    "        \"display\": \"dialog\",\n",
    "        \"actions\" : [\n",
    "            {\"label\": \"Cancel\", \"close\": True, \"cancel\": True},\n",
    "            {\"label\": \"Apply\", \"close\": True},\n",
    "        ]\n",
    "    }\n",
    "]\n",
    "\n",
    "steps_content = [aoi_view, planet_view , alerts_view]"
   ]
  },
  {
   "cell_type": "code",
   "execution_count": null,
   "id": "6cb13ee0",
   "metadata": {},
   "outputs": [],
   "source": [
    "map_app = MapApp(\n",
    "    app_title=\"Fires explorer\",\n",
    "    app_icon=\"mdi-fire\",\n",
    "    main_map=[map_],\n",
    "    steps_data=steps_data, \n",
    "    steps_content=steps_content, \n",
    "    repo_url=\"https://github.com/sepal-contrib/planet_active_fires_explorer\"\n",
    ")"
   ]
  },
  {
   "cell_type": "code",
   "execution_count": null,
   "metadata": {},
   "outputs": [],
   "source": [
    "def close_dialog(change):\n",
    "    logger.debug(\"map_app.open_dialog\", map_app.open_dialog)\n",
    "    if change[\"new\"]:\n",
    "        map_app.open_dialog = False\n",
    "aoi_view.observe(close_dialog, \"close_dialog\")"
   ]
  },
  {
   "cell_type": "code",
   "execution_count": null,
   "id": "36137083",
   "metadata": {},
   "outputs": [],
   "source": [
    "map_app"
   ]
  }
 ],
 "metadata": {
  "kernelspec": {
    "display_name": " (venv) planet_active_fires_explorer",
    "language": "python",
    "name": "venv-planet_active_fires_explorer"
    },
  "language_info": {
   "codemirror_mode": {
    "name": "ipython",
    "version": 3
   },
   "file_extension": ".py",
   "mimetype": "text/x-python",
   "name": "python",
   "nbconvert_exporter": "python",
   "pygments_lexer": "ipython3",
   "version": "3.10.15"
  }
 },
 "nbformat": 4,
 "nbformat_minor": 4
}
